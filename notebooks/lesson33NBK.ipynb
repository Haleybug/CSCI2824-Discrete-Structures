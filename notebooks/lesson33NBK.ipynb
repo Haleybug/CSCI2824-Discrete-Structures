{
 "cells": [
  {
   "cell_type": "markdown",
   "metadata": {},
   "source": [
    "# Lecture 33: Counting by Recurrence Relations and Dynamic Programming\n",
    "***"
   ]
  },
  {
   "cell_type": "code",
   "execution_count": null,
   "metadata": {},
   "outputs": [],
   "source": [
    "import time\n",
    "%load_ext Cython"
   ]
  },
  {
   "cell_type": "markdown",
   "metadata": {},
   "source": [
    "### Recursive Fibonacci \n",
    "***\n",
    "\n",
    "\\begin{eqnarray}\n",
    "F_0 &=& 0 \\\\\n",
    "F_1 &=& 1 \\\\\n",
    "F_n &=& F_{n-1} + F_{n-2} \\\\\n",
    "\\end{eqnarray}\n",
    "\n",
    "**Goal**: Write a recursive function called rfib that returns the $n^\\textrm{th}$ Fibonacci number. "
   ]
  },
  {
   "cell_type": "code",
   "execution_count": 53,
   "metadata": {},
   "outputs": [],
   "source": [
    "%%cython \n",
    "\n",
    "def rfib(n):\n",
    "    \n",
    "    assert(n >= 0)\n",
    "    \n",
    "    if n==0: return 0 \n",
    "    if n==1: return 1 \n",
    "    \n",
    "    return rfib(n-2) + rfib(n-1)\n",
    "    "
   ]
  },
  {
   "cell_type": "code",
   "execution_count": 56,
   "metadata": {},
   "outputs": [
    {
     "name": "stdout",
     "output_type": "stream",
     "text": [
      "rfib(35) = 9227465 / Took 1.524619 seconds\n"
     ]
    }
   ],
   "source": [
    "n = 35 \n",
    "rstart = time.time(); r = rfib(n); rend = time.time() \n",
    "print(\"rfib({:d}) = {:d} / Took {:f} seconds\".format(n, r, rend-rstart))"
   ]
  },
  {
   "cell_type": "markdown",
   "metadata": {},
   "source": [
    "### Dynamic Fibonacci\n",
    "***\n",
    "**Goal**: Write a function dfib that computes the $n^\\textrm{th}$ term in the Fibonacci sequence using Dynamic Programming. "
   ]
  },
  {
   "cell_type": "code",
   "execution_count": 57,
   "metadata": {
    "collapsed": true
   },
   "outputs": [],
   "source": [
    "%%cython \n",
    "\n",
    "def dfib(n):\n",
    "    \n",
    "    assert(n >= 0)\n",
    "    \n",
    "    if n==0: return 0\n",
    "    if n==1: return 1\n",
    "    \n",
    "    fibs = [0]*(n+1)\n",
    "    \n",
    "    fibs[0] = 0 \n",
    "    fibs[1] = 1 \n",
    "    \n",
    "    for ii in range(2, n+1):\n",
    "        fibs[ii] = fibs[ii-1] + fibs[ii-2]\n",
    "        \n",
    "    return fibs[n]\n",
    "    "
   ]
  },
  {
   "cell_type": "code",
   "execution_count": 58,
   "metadata": {},
   "outputs": [
    {
     "name": "stdout",
     "output_type": "stream",
     "text": [
      "rfib(35) = 9227465 / Took 1.579037 seconds\n",
      "dfib(35) = 9227465 / Took 0.000082 seconds\n"
     ]
    }
   ],
   "source": [
    "n = 35\n",
    "\n",
    "rstart = time.time(); r = rfib(n); rend = time.time() \n",
    "print(\"rfib({:d}) = {:d} / Took {:f} seconds\".format(n, r, rend-rstart))\n",
    "\n",
    "dstart = time.time(); d = dfib(n); dend = time.time() \n",
    "print(\"dfib({:d}) = {:d} / Took {:f} seconds\".format(n, d, dend-dstart))"
   ]
  },
  {
   "cell_type": "markdown",
   "metadata": {},
   "source": [
    "### Recursive Change Counting\n",
    "***\n",
    "\n",
    "In class we saw that we could compute the change counting problem with the recurrence \n",
    "\n",
    "\\begin{eqnarray}\n",
    "a_0 &=& 1 \\\\ \n",
    "a_1 &=& 1 \\\\ \n",
    "a_2 &=& 2 \\\\ \n",
    "a_3 &=& 3 \\\\ \n",
    "a_4 &=& 5 \\\\ \n",
    "a_n &=& a_{n-1} + a_{n-2} + a_{n-5}\n",
    "\\end{eqnarray}\n",
    "\n",
    "**Goal**: Write a function rChange to compute the number of ways you can make change for $n$ Rupees if you have denominations of 1, 2, and 5 Rupees. "
   ]
  },
  {
   "cell_type": "code",
   "execution_count": 59,
   "metadata": {
    "collapsed": true
   },
   "outputs": [],
   "source": [
    "%%cython\n",
    "\n",
    "def rChange(n, denoms=[1,2,5]):\n",
    "    \n",
    "    assert(n >= 0)\n",
    "    \n",
    "    if n==0: return 1 \n",
    "    if n==1: return 1 \n",
    "    if n==2: return 2 \n",
    "    if n==3: return 3 \n",
    "    if n==4: return 5 \n",
    "    \n",
    "    csum = 0\n",
    "    for d in denoms:\n",
    "        csum += rChange(n-d, denoms)\n",
    "    \n",
    "    return csum \n",
    "        "
   ]
  },
  {
   "cell_type": "code",
   "execution_count": 60,
   "metadata": {},
   "outputs": [
    {
     "name": "stdout",
     "output_type": "stream",
     "text": [
      "rChange(35) = 79343166 / Took 4.875886 seconds\n"
     ]
    }
   ],
   "source": [
    "n = 35\n",
    "denoms = [1,2,5]\n",
    "rstart = time.time(); c = rChange(n, denoms); rend = time.time() \n",
    "print(\"rChange({:d}) = {:d} / Took {:f} seconds\".format(n, c, rend-rstart))"
   ]
  },
  {
   "cell_type": "markdown",
   "metadata": {},
   "source": [
    "### Dynamic Change Counting\n",
    "***\n",
    "\n",
    "**Goal**: Write a function dChange to compute the number of ways you can make change for $n$ Rupees if you have denominations of 1, 2, and 5 Rupees using Dynamic Programming . "
   ]
  },
  {
   "cell_type": "code",
   "execution_count": 61,
   "metadata": {},
   "outputs": [],
   "source": [
    "%%cython \n",
    "\n",
    "def dChange(n, denoms=[1,2,5]):\n",
    "    \n",
    "    assert(n >= 0)\n",
    "    \n",
    "    if n==0 or n==1: return 1\n",
    "    if n==2: return 2\n",
    "    if n==3: return 3\n",
    "    if n==4: return 5\n",
    "    \n",
    "    c = [0]*(n+1)\n",
    "    \n",
    "    c[0] = c[1] = 1 \n",
    "    c[2] = 2 \n",
    "    c[3] = 3 \n",
    "    c[4] = 5 \n",
    "    \n",
    "    if n <= 4: \n",
    "        return c[n]\n",
    "    \n",
    "    for k in range(5,n+1):\n",
    "        c[k] = c[k-1] + c[k-2] + c[k-5]\n",
    "    \n",
    "    return c[n]"
   ]
  },
  {
   "cell_type": "code",
   "execution_count": 62,
   "metadata": {},
   "outputs": [
    {
     "name": "stdout",
     "output_type": "stream",
     "text": [
      "rChange(40) = 1142898376 / Took 69.365981 seconds\n",
      "dChange(40) = 1142898376 / Took 0.001761 seconds\n"
     ]
    }
   ],
   "source": [
    "n = 40\n",
    "denoms = [1,2,5]\n",
    "\n",
    "rstart = time.time(); r = rChange(n, denoms); rend = time.time() \n",
    "print(\"rChange({:d}) = {:d} / Took {:f} seconds\".format(n, r, rend-rstart))\n",
    "\n",
    "rstart = time.time(); d = dChange(n, denoms); rend = time.time() \n",
    "print(\"dChange({:d}) = {:d} / Took {:f} seconds\".format(n, d, rend-rstart))"
   ]
  }
 ],
 "metadata": {
  "kernelspec": {
   "display_name": "Python 3",
   "language": "python",
   "name": "python3"
  },
  "language_info": {
   "codemirror_mode": {
    "name": "ipython",
    "version": 3
   },
   "file_extension": ".py",
   "mimetype": "text/x-python",
   "name": "python",
   "nbconvert_exporter": "python",
   "pygments_lexer": "ipython3",
   "version": "3.6.1"
  }
 },
 "nbformat": 4,
 "nbformat_minor": 1
}
